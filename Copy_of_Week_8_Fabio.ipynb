{
  "nbformat": 4,
  "nbformat_minor": 0,
  "metadata": {
    "colab": {
      "name": "Copy of Week 8 Fabio",
      "provenance": [],
      "collapsed_sections": [],
      "authorship_tag": "ABX9TyO7lGy6MxDJSfKGeVXCIRT1",
      "include_colab_link": true
    },
    "kernelspec": {
      "display_name": "Python 3",
      "name": "python3"
    },
    "language_info": {
      "name": "python"
    }
  },
  "cells": [
    {
      "cell_type": "markdown",
      "metadata": {
        "id": "view-in-github",
        "colab_type": "text"
      },
      "source": [
        "<a href=\"https://colab.research.google.com/github/FabioSebs/AI-Models---DataScience-Sklearn/blob/main/Copy_of_Week_8_Fabio.ipynb\" target=\"_parent\"><img src=\"https://colab.research.google.com/assets/colab-badge.svg\" alt=\"Open In Colab\"/></a>"
      ]
    },
    {
      "cell_type": "markdown",
      "metadata": {
        "id": "DOJX3uO4eue5"
      },
      "source": [
        "# Importing Files and Getting Dataframes"
      ]
    },
    {
      "cell_type": "code",
      "metadata": {
        "id": "ePxXMoLya0PY"
      },
      "source": [
        "import numpy as np\n",
        "import pandas as pd\n",
        "import sklearn\n",
        "\n",
        "# File Paths\n",
        "testFile = \"./test.csv\"\n",
        "trainFile = \"./train.csv\"\n",
        "\n",
        "# Dataframes\n",
        "testDF = pd.read_csv(testFile)\n",
        "trainDF = pd.read_csv(trainFile)"
      ],
      "execution_count": null,
      "outputs": []
    },
    {
      "cell_type": "markdown",
      "metadata": {
        "id": "Kp18SRhie5LB"
      },
      "source": [
        "# Checking for Null Values"
      ]
    },
    {
      "cell_type": "code",
      "metadata": {
        "colab": {
          "base_uri": "https://localhost:8080/"
        },
        "id": "p9NFcTC4bopp",
        "outputId": "cd291850-86a1-4e3d-ffb9-ec143603d3c1"
      },
      "source": [
        "testDF.isnull().values.any()\n"
      ],
      "execution_count": null,
      "outputs": [
        {
          "output_type": "execute_result",
          "data": {
            "text/plain": [
              "False"
            ]
          },
          "metadata": {},
          "execution_count": 80
        }
      ]
    },
    {
      "cell_type": "code",
      "metadata": {
        "colab": {
          "base_uri": "https://localhost:8080/"
        },
        "id": "RvWBvXbTfKSa",
        "outputId": "321baa58-23d5-4bf4-d2de-840b9cd59116"
      },
      "source": [
        "trainDF.isnull().values.any()"
      ],
      "execution_count": null,
      "outputs": [
        {
          "output_type": "execute_result",
          "data": {
            "text/plain": [
              "False"
            ]
          },
          "metadata": {},
          "execution_count": 81
        }
      ]
    },
    {
      "cell_type": "markdown",
      "metadata": {
        "id": "UvMlbVq8lTcG"
      },
      "source": [
        "# Turning non-numerical values to numerical"
      ]
    },
    {
      "cell_type": "code",
      "metadata": {
        "id": "nndtI5oql4Tq"
      },
      "source": [
        "# Train Dataframe\n",
        "trainDF[\"Gender\"] = trainDF[\"Gender\"].map({\"Male\": 1.0, \"Female\": 2.0})\n",
        "trainDF[\"Vehicle_Age\"] = trainDF[\"Vehicle_Age\"].map({'> 2 Years':1.0, '1-2 Year':2.0, '< 1 Year':3.0})\n",
        "trainDF[\"Vehicle_Damage\"]=trainDF[\"Vehicle_Damage\"].map({\"Yes\": 1.0, \"No\": 0.0})\n",
        "\n",
        "# Test Dataframe\n",
        "testDF[\"Gender\"] = testDF[\"Gender\"].map({\"Male\": 1.0, \"Female\": 2.0})\n",
        "testDF[\"Vehicle_Age\"] = testDF[\"Vehicle_Age\"].map({'> 2 Years':1.0, '1-2 Year':2.0, '< 1 Year':3.0})\n",
        "testDF[\"Vehicle_Damage\"]=testDF[\"Vehicle_Damage\"].map({\"Yes\": 1.0, \"No\": 0.0})\n"
      ],
      "execution_count": null,
      "outputs": []
    },
    {
      "cell_type": "markdown",
      "metadata": {
        "id": "oizZhPRmbprn"
      },
      "source": [
        "# Trimming Dataframe"
      ]
    },
    {
      "cell_type": "code",
      "metadata": {
        "id": "5C2KXLg-bwe-"
      },
      "source": [
        "trainDF = trainDF.iloc[:2000,:]\n",
        "testDF = testDF.iloc[:2000,:]"
      ],
      "execution_count": null,
      "outputs": []
    },
    {
      "cell_type": "markdown",
      "metadata": {
        "id": "UF8jSAWtiHAV"
      },
      "source": [
        "# SVM Model"
      ]
    },
    {
      "cell_type": "code",
      "metadata": {
        "colab": {
          "base_uri": "https://localhost:8080/"
        },
        "id": "5ylADGEOiLwB",
        "outputId": "5368663e-4337-454a-d1ec-b84d34c6b095"
      },
      "source": [
        "from sklearn import svm\n",
        "\n",
        "# Dividing Dataframe Features vs Target \n",
        "features = trainDF.iloc[:,:-1]\n",
        "target = trainDF[\"Response\"]\n",
        "\n",
        "#Making the Model and Fitting\n",
        "model = svm.SVC()\n",
        "model.fit(features, target)"
      ],
      "execution_count": null,
      "outputs": [
        {
          "output_type": "execute_result",
          "data": {
            "text/plain": [
              "SVC()"
            ]
          },
          "metadata": {},
          "execution_count": 84
        }
      ]
    },
    {
      "cell_type": "markdown",
      "metadata": {
        "id": "yUoWtFe3dRJQ"
      },
      "source": [
        "# Predictions"
      ]
    },
    {
      "cell_type": "code",
      "metadata": {
        "id": "kq4eukOSdOfb"
      },
      "source": [
        "\n",
        "prediction = model.predict(features)"
      ],
      "execution_count": null,
      "outputs": []
    },
    {
      "cell_type": "markdown",
      "metadata": {
        "id": "Hv9UJC-8naMq"
      },
      "source": [
        "# Accuracy"
      ]
    },
    {
      "cell_type": "code",
      "metadata": {
        "colab": {
          "base_uri": "https://localhost:8080/"
        },
        "id": "DXy6JoRznb4Y",
        "outputId": "0d293e4d-62e3-4dce-e6d5-ec0e30d1053c"
      },
      "source": [
        "from sklearn import metrics\n",
        "print(\"Accuracy:\",metrics.accuracy_score(target, prediction))"
      ],
      "execution_count": null,
      "outputs": [
        {
          "output_type": "stream",
          "name": "stdout",
          "text": [
            "Accuracy: 0.8745\n"
          ]
        }
      ]
    },
    {
      "cell_type": "markdown",
      "metadata": {
        "id": "7Ft9jSdIZb7t"
      },
      "source": [
        "# K Nearest Model and Fitting"
      ]
    },
    {
      "cell_type": "code",
      "metadata": {
        "colab": {
          "base_uri": "https://localhost:8080/"
        },
        "id": "UmgGT7NvZle9",
        "outputId": "1f26977e-2138-49a5-f197-cc43daa47986"
      },
      "source": [
        "from sklearn.neighbors import KNeighborsClassifier\n",
        "neigh = KNeighborsClassifier(n_neighbors=3)\n",
        "neigh.fit(features, target)"
      ],
      "execution_count": null,
      "outputs": [
        {
          "output_type": "execute_result",
          "data": {
            "text/plain": [
              "KNeighborsClassifier(n_neighbors=3)"
            ]
          },
          "metadata": {},
          "execution_count": 87
        }
      ]
    },
    {
      "cell_type": "markdown",
      "metadata": {
        "id": "ATziG0DsadmW"
      },
      "source": [
        "# Predicting & Accuracy"
      ]
    },
    {
      "cell_type": "code",
      "metadata": {
        "colab": {
          "base_uri": "https://localhost:8080/"
        },
        "id": "e3ltlJDpavmp",
        "outputId": "b7f0db86-84f5-4ba1-b048-4f000e7bd9a8"
      },
      "source": [
        "prediction = neigh.predict(features)\n",
        "print(\"Accuracy:\",metrics.accuracy_score(target, prediction))"
      ],
      "execution_count": null,
      "outputs": [
        {
          "output_type": "stream",
          "name": "stdout",
          "text": [
            "Accuracy: 0.896\n"
          ]
        }
      ]
    },
    {
      "cell_type": "markdown",
      "metadata": {
        "id": "VR3hFlFLMxrq"
      },
      "source": [
        "# Naive Bayes Model and Fitting"
      ]
    },
    {
      "cell_type": "code",
      "metadata": {
        "colab": {
          "base_uri": "https://localhost:8080/"
        },
        "id": "I5XMQ7_xNGjC",
        "outputId": "0e43b5a3-6796-483e-822a-969ddd657cd0"
      },
      "source": [
        "from sklearn.naive_bayes import GaussianNB\n",
        "model = GaussianNB()\n",
        "model.fit(features,target)"
      ],
      "execution_count": null,
      "outputs": [
        {
          "output_type": "execute_result",
          "data": {
            "text/plain": [
              "GaussianNB()"
            ]
          },
          "metadata": {},
          "execution_count": 89
        }
      ]
    },
    {
      "cell_type": "markdown",
      "metadata": {
        "id": "kFNxeJhgNwwQ"
      },
      "source": [
        "# Predicting & Accuracy"
      ]
    },
    {
      "cell_type": "code",
      "metadata": {
        "colab": {
          "base_uri": "https://localhost:8080/"
        },
        "id": "Y1vs_H7PNzrZ",
        "outputId": "68b8d09c-d065-401a-8947-ce7623f8daf3"
      },
      "source": [
        "predicted = model.predict(features)\n",
        "print(\"Accuracy:\",metrics.accuracy_score(target, predicted))"
      ],
      "execution_count": null,
      "outputs": [
        {
          "output_type": "stream",
          "name": "stdout",
          "text": [
            "Accuracy: 0.8145\n"
          ]
        }
      ]
    },
    {
      "cell_type": "markdown",
      "metadata": {
        "id": "3hrbTv6tOt-P"
      },
      "source": [
        "# Decision Tree\n"
      ]
    },
    {
      "cell_type": "code",
      "metadata": {
        "id": "yGT7EEVvPNgO"
      },
      "source": [
        "from sklearn import tree\n",
        "clf = tree.DecisionTreeClassifier()\n",
        "clf = clf.fit(features, target)"
      ],
      "execution_count": null,
      "outputs": []
    },
    {
      "cell_type": "markdown",
      "metadata": {
        "id": "T_RCp81fPz_j"
      },
      "source": [
        "# Predicting & Accuracy"
      ]
    },
    {
      "cell_type": "code",
      "metadata": {
        "colab": {
          "base_uri": "https://localhost:8080/"
        },
        "id": "Kdkac0wgP2nP",
        "outputId": "7b68b4a0-8be8-4bfd-896d-62eff2354c55"
      },
      "source": [
        "predicted = clf.predict(features)\n",
        "print(\"Accuracy:\",metrics.accuracy_score(target, predicted))"
      ],
      "execution_count": null,
      "outputs": [
        {
          "output_type": "stream",
          "name": "stdout",
          "text": [
            "Accuracy: 1.0\n"
          ]
        }
      ]
    }
  ]
}